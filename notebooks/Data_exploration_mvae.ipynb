{
 "cells": [
  {
   "attachments": {},
   "cell_type": "markdown",
   "metadata": {},
   "source": [
    "# Load the data"
   ]
  },
  {
   "cell_type": "code",
   "execution_count": 1,
   "metadata": {},
   "outputs": [],
   "source": [
    "# Import necessary libraries\n",
    "import numpy as np\n",
    "import pandas as pd\n",
    "import matplotlib.pyplot as plt\n",
    "import seaborn as sns\n",
    "import torch\n",
    "import yaml\n",
    "from yaml.loader import SafeLoader\n",
    "\n",
    "# Set the style for seaborn plots\n",
    "sns.set(style='whitegrid')\n",
    "\n",
    "\n",
    "path = \"Data_exploration/\"\n",
    "\n",
    "\n",
    "# Import mu and sigma\n",
    "data = torch.load(path + 'data_normalized')"
   ]
  },
  {
   "cell_type": "code",
   "execution_count": 4,
   "metadata": {},
   "outputs": [
    {
     "ename": "",
     "evalue": "",
     "output_type": "error",
     "traceback": [
      "\u001b[1;31mCanceled future for execute_request message before replies were done"
     ]
    },
    {
     "ename": "",
     "evalue": "",
     "output_type": "error",
     "traceback": [
      "\u001b[1;31mThe Kernel crashed while executing code in the the current cell or a previous cell. Please review the code in the cell(s) to identify a possible cause of the failure. Click <a href='https://aka.ms/vscodeJupyterKernelCrash'>here</a> for more info. View Jupyter <a href='command:jupyter.viewOutput'>log</a> for further details."
     ]
    }
   ],
   "source": [
    "\n"
   ]
  },
  {
   "cell_type": "code",
   "execution_count": null,
   "metadata": {},
   "outputs": [
    {
     "ename": "",
     "evalue": "",
     "output_type": "error",
     "traceback": [
      "\u001b[1;31mCanceled future for execute_request message before replies were done"
     ]
    },
    {
     "ename": "",
     "evalue": "",
     "output_type": "error",
     "traceback": [
      "\u001b[1;31mThe Kernel crashed while executing code in the the current cell or a previous cell. Please review the code in the cell(s) to identify a possible cause of the failure. Click <a href='https://aka.ms/vscodeJupyterKernelCrash'>here</a> for more info. View Jupyter <a href='command:jupyter.viewOutput'>log</a> for further details."
     ]
    }
   ],
   "source": [
    "\n"
   ]
  },
  {
   "cell_type": "code",
   "execution_count": null,
   "metadata": {},
   "outputs": [
    {
     "ename": "",
     "evalue": "",
     "output_type": "error",
     "traceback": [
      "\u001b[1;31mCanceled future for execute_request message before replies were done"
     ]
    },
    {
     "ename": "",
     "evalue": "",
     "output_type": "error",
     "traceback": [
      "\u001b[1;31mThe Kernel crashed while executing code in the the current cell or a previous cell. Please review the code in the cell(s) to identify a possible cause of the failure. Click <a href='https://aka.ms/vscodeJupyterKernelCrash'>here</a> for more info. View Jupyter <a href='command:jupyter.viewOutput'>log</a> for further details."
     ]
    }
   ],
   "source": [
    "\n"
   ]
  },
  {
   "cell_type": "code",
   "execution_count": null,
   "metadata": {},
   "outputs": [
    {
     "ename": "",
     "evalue": "",
     "output_type": "error",
     "traceback": [
      "\u001b[1;31mCanceled future for execute_request message before replies were done"
     ]
    },
    {
     "ename": "",
     "evalue": "",
     "output_type": "error",
     "traceback": [
      "\u001b[1;31mThe Kernel crashed while executing code in the the current cell or a previous cell. Please review the code in the cell(s) to identify a possible cause of the failure. Click <a href='https://aka.ms/vscodeJupyterKernelCrash'>here</a> for more info. View Jupyter <a href='command:jupyter.viewOutput'>log</a> for further details."
     ]
    }
   ],
   "source": [
    "\n"
   ]
  },
  {
   "cell_type": "code",
   "execution_count": null,
   "metadata": {},
   "outputs": [
    {
     "ename": "",
     "evalue": "",
     "output_type": "error",
     "traceback": [
      "\u001b[1;31mCanceled future for execute_request message before replies were done"
     ]
    },
    {
     "ename": "",
     "evalue": "",
     "output_type": "error",
     "traceback": [
      "\u001b[1;31mThe Kernel crashed while executing code in the the current cell or a previous cell. Please review the code in the cell(s) to identify a possible cause of the failure. Click <a href='https://aka.ms/vscodeJupyterKernelCrash'>here</a> for more info. View Jupyter <a href='command:jupyter.viewOutput'>log</a> for further details."
     ]
    }
   ],
   "source": [
    "\n"
   ]
  },
  {
   "attachments": {},
   "cell_type": "markdown",
   "metadata": {},
   "source": [
    "# Plot distributions"
   ]
  },
  {
   "cell_type": "code",
   "execution_count": 2,
   "metadata": {},
   "outputs": [],
   "source": [
    "\n",
    "# Rename the columns to describe the features\n",
    "columns = ['root_position_x', 'root_position_y',\n",
    "           'lin_vel_x', 'lin_vel_y',\n",
    "           'forward_axis_x', 'forward_axis_y',\n",
    "           'ang_vel']\n",
    "\n",
    "# Add columns for joint position, velocity, and orientation\n",
    "for i in range(0, 24): \n",
    "    columns.append(f'joint{i}_pos_x')\n",
    "    columns.append(f'joint{i}_pos_y')\n",
    "    columns.append(f'joint{i}_pos_z')\n",
    "\n",
    "for i in range(0, 24): \n",
    "    columns.append(f'joint{i}_vel_x')\n",
    "    columns.append(f'joint{i}_vel_y')\n",
    "    columns.append(f'joint{i}_vel_z')\n",
    "\n",
    "for i in range(0, 24): \n",
    "    columns.append(f'joint{i}_forward_x')\n",
    "    columns.append(f'joint{i}_forward_y')\n",
    "    columns.append(f'joint{i}_forward_z')\n",
    "    columns.append(f'joint{i}_upward_x')\n",
    "    columns.append(f'joint{i}_upward_y')\n",
    "    columns.append(f'joint{i}_upward_z')\n",
    "\n",
    "# Convert the torch tensor to a pandas DataFrame\n",
    "dataset = pd.DataFrame(data.numpy(), columns=columns)\n",
    "\n",
    "description = dataset.describe()\n",
    "# Visualize the dataset with basic statistics\n",
    "print(description)\n",
    "\n",
    "def plot_feature_distribution(dataset, feature, title=''):\n",
    "    plt.figure(figsize=(10, 6))\n",
    "    sns.histplot(dataset[feature], kde=True, color='blue')\n",
    "    plt.title(title)\n",
    "    plt.xlabel(feature)\n",
    "    plt.ylabel('Frequency')\n",
    "    plt.grid(True)\n",
    "    plt.show()\n",
    "\n",
    "# Visualize the distribution of key features\n",
    "plot_feature_distribution(dataset, 'root_position_x', '2D Root Position X Distribution')\n",
    "plot_feature_distribution(dataset, 'root_position_y', '2D Root Position Y Distribution')\n",
    "plot_feature_distribution(dataset, 'forward_axis_x', 'Forward Axis X Distribution')\n",
    "plot_feature_distribution(dataset, 'forward_axis_y', 'Forward Axis Y Distribution')\n",
    "\n",
    "def plot_joint_distribution(dataset, joint_number):\n",
    "    joint_features = [f'joint{joint_number}_pos_x',\n",
    "                      f'joint{joint_number}_pos_y',\n",
    "                      f'joint{joint_number}_pos_z',\n",
    "                      f'joint{joint_number}_vel_x',\n",
    "                      f'joint{joint_number}_vel_y',\n",
    "                      f'joint{joint_number}_vel_z',\n",
    "                      f'joint{joint_number}_forward_x',\n",
    "                      f'joint{joint_number}_forward_y',\n",
    "                      f'joint{joint_number}_forward_z',\n",
    "                      f'joint{joint_number}_upward_x',\n",
    "                      f'joint{joint_number}_upward_y',\n",
    "                      f'joint{joint_number}_upward_z']\n",
    "    fig, axes = plt.subplots(5, 2, figsize=(15, 20))\n",
    "    fig.suptitle(f'Distribution of Features for Joint {joint_number}')\n",
    "\n",
    "    for idx, feature in enumerate(joint_features):\n",
    "        row, col = idx // 2, idx % 2\n",
    "        sns.histplot(dataset[feature], kde=True, ax=axes[row, col], color='blue')\n",
    "        axes[row, col].set_title(feature)\n",
    "        axes[row, col].set_xlabel(feature)\n",
    "        axes[row, col].set_ylabel('Frequency')\n",
    "        axes[row, col].grid(True)\n",
    "\n",
    "    plt.tight_layout()\n",
    "    plt.show()\n",
    "\n",
    "# Visualize the distribution of features for a sample joint\n",
    "plot_joint_distribution(dataset, 1)\n"
   ]
  },
  {
   "cell_type": "code",
   "execution_count": null,
   "metadata": {},
   "outputs": [],
   "source": []
  }
 ],
 "metadata": {
  "kernelspec": {
   "display_name": "kinetix_prod",
   "language": "python",
   "name": "python3"
  },
  "language_info": {
   "codemirror_mode": {
    "name": "ipython",
    "version": 3
   },
   "file_extension": ".py",
   "mimetype": "text/x-python",
   "name": "python",
   "nbconvert_exporter": "python",
   "pygments_lexer": "ipython3",
   "version": "3.9.16"
  },
  "orig_nbformat": 4
 },
 "nbformat": 4,
 "nbformat_minor": 2
}
