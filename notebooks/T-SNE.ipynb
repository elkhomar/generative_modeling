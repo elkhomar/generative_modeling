{
 "cells": [
  {
   "cell_type": "code",
   "execution_count": 1,
   "metadata": {},
   "outputs": [],
   "source": [
    "from sklearn.manifold import TSNE\n",
    "import numpy as np\n",
    "import matplotlib.pyplot as plt\n",
    "import seaborn as sns\n",
    "import torch\n",
    "import ipywidgets as widgets\n",
    "from IPython.display import display"
   ]
  },
  {
   "cell_type": "code",
   "execution_count": 4,
   "metadata": {},
   "outputs": [],
   "source": [
    "# Input of the script (we only get the mu)\n",
    "model_output = torch.load('Saved/Results/No_translation/Vae_beta_0.002/val_anim/model_output_stochastic')\n",
    "# Params\n",
    "n_seconds = 600\n",
    "# 0:original pose, 1:mu, 2:sigma, 3:reconstructed pose\n",
    "param = 1\n",
    "\n",
    "latent_representation = [pose[param][:].detach().numpy() for pose in model_output[30*5:30*n_seconds]]\n",
    "latent_representation = np.array(latent_representation)\n",
    "\n",
    "def visualize_latent_structure(perplexity):\n",
    "    latent_representation_2d = TSNE(n_components=2, perplexity= perplexity).fit_transform(latent_representation)\n",
    "\n",
    "    cmap = plt.get_cmap('viridis')\n",
    "    colors = [cmap(i / len(latent_representation_2d)) for i in range(len(latent_representation_2d))]\n",
    "\n",
    "    plt.figure(figsize=(10, 5))\n",
    "    plt.scatter(latent_representation_2d[:, 0], latent_representation_2d[:, 1], c=colors)\n",
    "    plt.title('VAE Distribution Visualization')\n",
    "    plt.xlabel('Dimension 1')\n",
    "    plt.ylabel('Dimension 2')\n",
    "    plt.show()\n"
   ]
  },
  {
   "cell_type": "code",
   "execution_count": 5,
   "metadata": {},
   "outputs": [
    {
     "data": {
      "application/vnd.jupyter.widget-view+json": {
       "model_id": "249ac1066411470f898c74d7000f8779",
       "version_major": 2,
       "version_minor": 0
      },
      "text/plain": [
       "interactive(children=(IntSlider(value=5, description='Perplexity:', min=1), Output()), _dom_classes=('widget-i…"
      ]
     },
     "metadata": {},
     "output_type": "display_data"
    },
    {
     "data": {
      "text/plain": [
       "<function __main__.visualize_latent_structure(perplexity)>"
      ]
     },
     "execution_count": 5,
     "metadata": {},
     "output_type": "execute_result"
    }
   ],
   "source": [
    "perplexity_slider = widgets.IntSlider(min=1, max=100, step=1, value=5, description='Perplexity:')\n",
    "\n",
    "widgets.interact(visualize_latent_structure, perplexity=perplexity_slider)"
   ]
  },
  {
   "cell_type": "code",
   "execution_count": null,
   "metadata": {},
   "outputs": [],
   "source": []
  }
 ],
 "metadata": {
  "kernelspec": {
   "display_name": "kinetix_prod",
   "language": "python",
   "name": "python3"
  },
  "language_info": {
   "codemirror_mode": {
    "name": "ipython",
    "version": 3
   },
   "file_extension": ".py",
   "mimetype": "text/x-python",
   "name": "python",
   "nbconvert_exporter": "python",
   "pygments_lexer": "ipython3",
   "version": "3.9.16"
  },
  "orig_nbformat": 4
 },
 "nbformat": 4,
 "nbformat_minor": 2
}
