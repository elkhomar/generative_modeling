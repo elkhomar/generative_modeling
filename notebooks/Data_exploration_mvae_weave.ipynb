{
 "cells": [
  {
   "attachments": {},
   "cell_type": "markdown",
   "metadata": {},
   "source": [
    "# Load the data"
   ]
  },
  {
   "cell_type": "code",
   "execution_count": 1,
   "metadata": {},
   "outputs": [
    {
     "data": {
      "application/vnd.jupyter.widget-view+json": {
       "model_id": "d766111c051945b3bc0fef6c36531c6d",
       "version_major": 2,
       "version_minor": 0
      },
      "text/plain": [
       "interactive(children=(FloatSlider(value=1.0, description='sigma_x', max=3.0, min=0.1), FloatSlider(value=1.0, …"
      ]
     },
     "metadata": {},
     "output_type": "display_data"
    },
    {
     "data": {
      "text/plain": [
       "<function __main__.plot_func(sigma_x, sigma_y, rho)>"
      ]
     },
     "execution_count": 1,
     "metadata": {},
     "output_type": "execute_result"
    }
   ],
   "source": [
    "import numpy as np\n",
    "import matplotlib.pyplot as plt\n",
    "from mpl_toolkits.mplot3d import Axes3D\n",
    "from scipy.stats import multivariate_normal\n",
    "import ipywidgets as widgets\n",
    "from IPython.display import display\n",
    "\n",
    "# Define the function\n",
    "def plot_func(sigma_x, sigma_y, rho):\n",
    "    x = np.linspace(-5, 5, 100)\n",
    "    y = x\n",
    "    X, Y = np.meshgrid(x,y)\n",
    "    pos = np.empty(X.shape + (2,))\n",
    "    pos[:, :, 0] = X; pos[:, :, 1] = Y\n",
    "    rv = multivariate_normal([0, 0], [[sigma_x**2, rho*sigma_x*sigma_y], [rho*sigma_x*sigma_y, sigma_y**2]])\n",
    "    Z = rv.pdf(pos)\n",
    "    \n",
    "    fig = plt.figure(figsize=(10, 10))\n",
    "    ax = fig.add_subplot(111, projection='3d')\n",
    "    ax.plot_surface(X, Y, Z, cmap='viridis')\n",
    "    plt.show()\n",
    "\n",
    "# Create the widgets\n",
    "sigma_x_slider = widgets.FloatSlider(min=0.1, max=3.0, step=0.1, value=1.0, description='sigma_x')\n",
    "sigma_y_slider = widgets.FloatSlider(min=0.1, max=3.0, step=0.1, value=1.0, description='sigma_y')\n",
    "rho_slider = widgets.FloatSlider(min=-1.0, max=1.0, step=0.1, value=0.0, description='rho')\n",
    "\n",
    "# Create the interactive plot\n",
    "widgets.interact(plot_func, sigma_x=sigma_x_slider, sigma_y=sigma_y_slider, rho=rho_slider)"
   ]
  },
  {
   "cell_type": "code",
   "execution_count": null,
   "metadata": {},
   "outputs": [],
   "source": []
  }
 ],
 "metadata": {
  "kernelspec": {
   "display_name": "kinetix_prod",
   "language": "python",
   "name": "python3"
  },
  "language_info": {
   "codemirror_mode": {
    "name": "ipython",
    "version": 3
   },
   "file_extension": ".py",
   "mimetype": "text/x-python",
   "name": "python",
   "nbconvert_exporter": "python",
   "pygments_lexer": "ipython3",
   "version": "3.9.16"
  },
  "orig_nbformat": 4
 },
 "nbformat": 4,
 "nbformat_minor": 2
}
