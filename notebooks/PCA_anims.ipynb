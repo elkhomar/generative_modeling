{
 "cells": [
  {
   "cell_type": "code",
   "execution_count": 1,
   "metadata": {},
   "outputs": [],
   "source": [
    "from sklearn.decomposition import PCA\n",
    "import numpy as np\n",
    "import matplotlib.pyplot as plt\n",
    "import seaborn as sns\n",
    "import torch\n",
    "import ipywidgets as widgets\n",
    "from IPython.display import display\n",
    "import os\n",
    "import yaml\n",
    "from yaml.loader import SafeLoader"
   ]
  },
  {
   "cell_type": "code",
   "execution_count": 11,
   "metadata": {},
   "outputs": [],
   "source": [
    "# Load path from current dir\n",
    "with open(\"../configs/paths/default.yaml\") as f:\n",
    "    cfg = yaml.load(f, Loader=SafeLoader)\n",
    "    path = cfg[\"current_dir\"]\n",
    "    path = path.replace(\"${paths.root_dir}\", \"..\")\n",
    "    path += \"/\"\n",
    "\n",
    "# Input of the script (we only get the mu)\n",
    "all_anim = torch.cat((torch.load(path + \"x_train.pt\"), torch.load(path + \"x_test.pt\")))\n",
    "\n",
    "#latent_representation_all = all_anim.numpy()\n",
    "latent_representation_all = torch.load(path + \"x_train.pt\").numpy()\n",
    "\n",
    "# Compute PCA space\n",
    "projector = PCA(n_components=2).fit(latent_representation_all)\n"
   ]
  },
  {
   "cell_type": "code",
   "execution_count": 12,
   "metadata": {},
   "outputs": [],
   "source": [
    "x_train = torch.load(path + \"x_train.pt\")\n",
    "xhat_train = torch.load(path + \"xhat_train.pt\")\n",
    "xdeter_train = torch.load(path + \"xdeter_train.pt\")\n",
    "x_test = torch.load(path + \"x_test.pt\")\n",
    "xhat_test = torch.load(path + \"xhat_test.pt\")\n",
    "xdeter_test = torch.load(path + \"xdeter_test.pt\")\n",
    "\n",
    "data = [[x_train, xdeter_train], [x_test, xdeter_test]]"
   ]
  },
  {
   "cell_type": "code",
   "execution_count": 13,
   "metadata": {},
   "outputs": [],
   "source": [
    "def visualize_latent_structure(test, n_seconds = range(60)):\n",
    "    latent_representation_original = data[test][0][range(n_seconds[0]*30,n_seconds[1]*30)].numpy()\n",
    "    latent_representation_reconstructed = data[test][1][range(n_seconds[0]*30,n_seconds[1]*30)].numpy()\n",
    "\n",
    "    latent_representation_2d_original = projector.transform(latent_representation_original)\n",
    "    latent_representation_2d_reconstructed = projector.transform(latent_representation_reconstructed)\n",
    "\n",
    "    plt.figure(figsize=(10, 5)) \n",
    "\n",
    "    \n",
    "    cmap_original = plt.get_cmap('Blues')\n",
    "    colors_original = [cmap_original(i / len(latent_representation_original)) for i in range(len(latent_representation_original))]\n",
    "    plt.scatter(latent_representation_original[:, 0], latent_representation_original[:, 1], c=colors_original)\n",
    "\n",
    "    cmap_reconstructed = plt.get_cmap('Reds')\n",
    "    colors_reconstructed = [cmap_reconstructed(i / len(latent_representation_reconstructed)) for i in range(len(latent_representation_reconstructed))]\n",
    "    plt.scatter(latent_representation_reconstructed[:, 0], latent_representation_reconstructed[:, 1], c=colors_reconstructed)\n",
    "\n",
    "    plt.title('VAE Distribution Visualization')\n",
    "    plt.xlabel('Dimension 1')\n",
    "    plt.ylabel('Dimension 2')\n",
    "    #plt.xlim([-7, 7])\n",
    "    #plt.ylim([-7, 7])\n",
    "    plt.show()\n"
   ]
  },
  {
   "cell_type": "code",
   "execution_count": 14,
   "metadata": {},
   "outputs": [
    {
     "data": {
      "text/plain": [
       "array([[-1.0533371e-03, -7.0539778e-01,  4.5835774e-02,  4.7817235e-03,\n",
       "         8.6871505e-04,  3.1812611e-04, -4.5538396e-03,  2.3835916e-04,\n",
       "         1.7970697e-03,  3.0163160e-04,  2.9498083e-04, -1.8861897e-04,\n",
       "         5.3468868e-10, -1.8140230e-10,  5.0810384e-10, -6.7887089e-04,\n",
       "         1.9834491e-03, -2.7334431e-04, -6.3186442e-03,  7.2713773e-04,\n",
       "         1.5094742e-03,  1.5356219e-03,  4.7809674e-04, -9.7176747e-04,\n",
       "        -6.8505401e-10,  4.8139664e-10, -3.2741948e-10, -4.8445284e-04,\n",
       "        -4.3886830e-04,  1.2990677e-04, -9.6432783e-04, -8.9499494e-04,\n",
       "         2.1896198e-04, -9.6512248e-04, -9.3353604e-04,  1.6437813e-04,\n",
       "         2.0564680e-03, -1.3745278e-03, -4.4029939e-04, -7.9284952e-04,\n",
       "        -1.7297696e-03,  1.1703246e-04,  1.6428171e-04,  1.8390626e-04,\n",
       "         8.2239707e-04,  6.2446562e-03, -4.9686385e-03, -4.9242418e-04,\n",
       "         4.1169705e-04,  7.0329048e-03, -1.0674937e-03, -2.8238713e-03,\n",
       "        -4.7154454e-04, -1.7042656e-04,  0.0000000e+00,  0.0000000e+00,\n",
       "         0.0000000e+00, -5.3576351e-04, -1.9648725e-03,  3.1844611e-04,\n",
       "         2.2168348e-03, -1.3856607e-03,  1.0254103e-03,  9.8159348e-05,\n",
       "        -6.3757352e-03,  4.0566229e-04, -2.7225681e-03, -4.9865252e-04,\n",
       "         3.7830512e-03,  0.0000000e+00,  0.0000000e+00,  0.0000000e+00,\n",
       "        -1.0346819e-03, -7.0540458e-01,  4.5747008e-02,  4.7832765e-03,\n",
       "         8.7671570e-04,  3.6867720e-04, -4.4107554e-03,  2.5327207e-04,\n",
       "         1.8103576e-03,  3.2615435e-04,  3.0586816e-04, -2.2602009e-04,\n",
       "         5.3483229e-10, -1.7631933e-10,  5.1499421e-10, -6.4116518e-04,\n",
       "         1.9449487e-03, -2.9103289e-04, -6.4724754e-03,  7.2653400e-04,\n",
       "         1.5164084e-03,  1.4645094e-03,  4.8126935e-04, -1.0057532e-03,\n",
       "        -6.8317269e-10,  4.7988435e-10, -3.2917133e-10, -4.8261185e-04,\n",
       "        -4.3633496e-04,  1.4203139e-04, -9.6074812e-04, -8.9080964e-04,\n",
       "         2.4325431e-04, -9.6169830e-04, -9.3056500e-04,  1.8859393e-04,\n",
       "         2.0543954e-03, -1.2997631e-03, -4.2094148e-04, -7.8613946e-04,\n",
       "        -1.6210260e-03,  4.0334846e-05,  1.6484130e-04,  1.8911758e-04,\n",
       "         8.2083046e-04,  6.1938460e-03, -5.0217090e-03, -5.6650606e-04,\n",
       "         4.1913596e-04,  6.9813016e-03, -1.0795267e-03, -2.8465185e-03,\n",
       "        -4.5609573e-04, -2.1361337e-04,  0.0000000e+00,  0.0000000e+00,\n",
       "         0.0000000e+00, -5.3406873e-04, -1.9511281e-03,  3.2750145e-04,\n",
       "         2.2625094e-03, -1.3939088e-03,  9.9881482e-04,  9.4152194e-05,\n",
       "        -6.4650425e-03,  3.9462035e-04, -2.7231437e-03, -5.1640579e-04,\n",
       "         3.7363435e-03,  0.0000000e+00,  0.0000000e+00,  0.0000000e+00],\n",
       "       [ 8.7319359e-02, -1.3093970e-02, -8.4488150e-03, -2.0311771e-01,\n",
       "         2.9689224e-02,  2.5732730e-02,  2.6676103e-01,  3.6099582e-04,\n",
       "        -2.8381653e-02, -1.5681567e-02, -6.0861954e-03, -1.6664997e-02,\n",
       "        -3.1839333e-09,  2.0942188e-09,  6.4004502e-10, -1.9075245e-01,\n",
       "        -2.4561554e-02, -2.8613212e-02,  2.7441791e-01, -5.2139959e-03,\n",
       "         1.1437083e-02, -2.7238710e-02, -1.6027798e-03,  1.7132267e-02,\n",
       "        -3.5978040e-10,  3.3002838e-09,  9.1808178e-10,  2.6177706e-02,\n",
       "         3.5794580e-04,  3.5160370e-04,  5.2322157e-02,  7.0291612e-04,\n",
       "         6.7725364e-04,  5.2286170e-02,  7.2177855e-04,  6.1639672e-04,\n",
       "        -4.0258288e-02,  5.9207687e-03,  1.0563512e-02, -8.1012420e-02,\n",
       "         1.5254688e-02, -1.6186764e-02,  6.5779970e-03, -5.4403588e-02,\n",
       "         3.7541039e-02, -2.4760453e-01, -7.1122870e-02,  1.2394417e-01,\n",
       "        -4.4821403e-03, -1.4903976e-01, -1.5560237e-02,  2.0380920e-02,\n",
       "        -1.6612178e-02,  1.0666833e-01, -0.0000000e+00, -0.0000000e+00,\n",
       "        -0.0000000e+00,  5.4555302e-03,  5.8208317e-02, -4.7301825e-02,\n",
       "        -2.3103207e-01,  1.1504700e-01, -1.4365782e-01,  1.3763936e-03,\n",
       "         1.4376578e-01,  2.0163445e-02,  3.1076601e-02,  2.1105481e-02,\n",
       "        -1.0693663e-01, -0.0000000e+00, -0.0000000e+00, -0.0000000e+00,\n",
       "         8.7445915e-02, -1.3124951e-02, -8.4325653e-03, -2.0373818e-01,\n",
       "         2.9417906e-02,  2.5785489e-02,  2.6583827e-01,  4.5111738e-04,\n",
       "        -2.8224794e-02, -1.6002506e-02, -5.9903208e-03, -1.6673550e-02,\n",
       "        -3.1820044e-09,  2.0956323e-09,  6.4229122e-10, -1.9121839e-01,\n",
       "        -2.4462439e-02, -2.8650071e-02,  2.7350393e-01, -5.3171380e-03,\n",
       "         1.1278950e-02, -2.7583702e-02, -1.7164637e-03,  1.7172450e-02,\n",
       "        -3.5769038e-10,  3.3060152e-09,  9.1683783e-10,  2.6195034e-02,\n",
       "         3.5273581e-04,  3.5841163e-04,  5.2356899e-02,  6.9205166e-04,\n",
       "         6.9070712e-04,  5.2321233e-02,  7.1033323e-04,  6.2960485e-04,\n",
       "        -4.0297545e-02,  5.9103477e-03,  1.0565719e-02, -8.1089072e-02,\n",
       "         1.5253858e-02, -1.6174668e-02,  6.5874788e-03, -5.4468073e-02,\n",
       "         3.7698247e-02, -2.4769078e-01, -7.1215555e-02,  1.2402599e-01,\n",
       "        -4.4527431e-03, -1.4952332e-01, -1.5571921e-02,  2.0578742e-02,\n",
       "        -1.6734025e-02,  1.0676385e-01, -0.0000000e+00, -0.0000000e+00,\n",
       "        -0.0000000e+00,  5.4631019e-03,  5.8285449e-02, -4.7438245e-02,\n",
       "        -2.3113030e-01,  1.1510211e-01, -1.4373356e-01,  1.3992500e-03,\n",
       "         1.4403197e-01,  2.0229837e-02,  3.1135498e-02,  2.1174390e-02,\n",
       "        -1.0715493e-01, -0.0000000e+00, -0.0000000e+00, -0.0000000e+00]],\n",
       "      dtype=float32)"
      ]
     },
     "execution_count": 14,
     "metadata": {},
     "output_type": "execute_result"
    }
   ],
   "source": [
    "projector.components_"
   ]
  },
  {
   "cell_type": "code",
   "execution_count": 15,
   "metadata": {},
   "outputs": [
    {
     "data": {
      "application/vnd.jupyter.widget-view+json": {
       "model_id": "a713f3f7fca5429094e68ea3c1988c90",
       "version_major": 2,
       "version_minor": 0
      },
      "text/plain": [
       "interactive(children=(IntSlider(value=0, description='is test:', max=1), SelectionRangeSlider(description='sec…"
      ]
     },
     "metadata": {},
     "output_type": "display_data"
    },
    {
     "data": {
      "text/plain": [
       "<function __main__.visualize_latent_structure(test, n_seconds=range(0, 60))>"
      ]
     },
     "execution_count": 15,
     "metadata": {},
     "output_type": "execute_result"
    }
   ],
   "source": [
    "time_slider = widgets.IntSlider(min=1, max=1000, step=1, value=5, description='seconds:')\n",
    "time_slider = widgets.SelectionRangeSlider(\n",
    "    options=range(1001),\n",
    "    index=(0,1000),\n",
    "    description='seconds',\n",
    "    disabled=False\n",
    ")\n",
    "\n",
    "train_test_slider = widgets.IntSlider(min=0, max=1, step=1, value=0, description='is test:')\n",
    "#orginal_reconstructed_slider = widgets.IntSlider(min=0, max=1, step=1, value=0, description='is reconstructed:')\n",
    "\n",
    "widgets.interact(visualize_latent_structure, n_seconds = time_slider, test = train_test_slider)"
   ]
  },
  {
   "cell_type": "code",
   "execution_count": 7,
   "metadata": {},
   "outputs": [
    {
     "data": {
      "image/png": "[encoded data removed]",
      "text/plain": [
       "<Figure size 432x288 with 1 Axes>"
      ]
     },
     "metadata": {
      "needs_background": "light"
     },
     "output_type": "display_data"
    }
   ],
   "source": [
    "\n",
    "# Compute PCA space for large number of components\n",
    "pca_vis = PCA().fit(latent_representation_all)\n",
    "exp_var_pca = pca_vis.explained_variance_ratio_\n",
    "#\n",
    "# Cumulative sum of eigenvalues; This will be used to create step plot\n",
    "# for visualizing the variance explained by each principal component.\n",
    "#\n",
    "cum_sum_eigenvalues = np.cumsum(exp_var_pca)\n",
    "#\n",
    "# Create the visualization plot\n",
    "#\n",
    "plt.bar(range(0,len(exp_var_pca)), exp_var_pca, alpha=0.5, align='center', label='Individual explained variance')\n",
    "plt.step(range(0,len(cum_sum_eigenvalues)), cum_sum_eigenvalues, where='mid',label='Cumulative explained variance')\n",
    "plt.ylabel('Explained variance ratio')\n",
    "plt.xlabel('Principal component index')\n",
    "plt.legend(loc='best')\n",
    "plt.tight_layout()\n",
    "plt.show()"
   ]
  },
  {
   "cell_type": "code",
   "execution_count": 8,
   "metadata": {},
   "outputs": [],
   "source": [
    "n_necessary = [np.where(cum_sum_eigenvalues > i*0.1)[0][0] for i in range(5,10)]"
   ]
  },
  {
   "cell_type": "code",
   "execution_count": 9,
   "metadata": {},
   "outputs": [
    {
     "data": {
      "text/plain": [
       "[1, 3, 5, 10, 18]"
      ]
     },
     "execution_count": 9,
     "metadata": {},
     "output_type": "execute_result"
    }
   ],
   "source": [
    "n_necessary"
   ]
  },
  {
   "cell_type": "code",
   "execution_count": 10,
   "metadata": {},
   "outputs": [
    {
     "data": {
      "image/png": "[encoded data removed]",
      "text/plain": [
       "<Figure size 432x288 with 1 Axes>"
      ]
     },
     "metadata": {
      "needs_background": "light"
     },
     "output_type": "display_data"
    }
   ],
   "source": [
    "import numpy as np\n",
    "import matplotlib.pyplot as plt\n",
    "from sklearn.decomposition import PCA\n",
    "\n",
    "# Compute PCA space for large number of components\n",
    "pca_vis = PCA().fit(latent_representation_all)\n",
    "exp_var_pca = pca_vis.explained_variance_ratio_\n",
    "\n",
    "# Cumulative sum of eigenvalues\n",
    "cum_sum_eigenvalues = np.cumsum(exp_var_pca)\n",
    "\n",
    "# Find indices when 0.8, 0.9 and 0.99 of the variance is captured\n",
    "idx_80 = np.where(cum_sum_eigenvalues >= 0.8)[0][0]\n",
    "idx_90 = np.where(cum_sum_eigenvalues >= 0.9)[0][0]\n",
    "idx_99 = np.where(cum_sum_eigenvalues >= 0.99)[0][0]\n",
    "\n",
    "# Create the visualization plot\n",
    "plt.bar(range(0, len(exp_var_pca)), exp_var_pca, alpha=0.5, align='center', label='Individual explained variance')\n",
    "plt.step(range(0, len(cum_sum_eigenvalues)), cum_sum_eigenvalues, where='mid', label='Cumulative explained variance')\n",
    "plt.ylabel('Explained variance ratio')\n",
    "plt.xlabel('Principal component index')\n",
    "\n",
    "# Add markers for 0.8, 0.9, and 0.99 of the variance captured\n",
    "plt.axvline(x=idx_80, color='red', linestyle='--', label='0.8 captured')\n",
    "plt.axvline(x=idx_90, color='green', linestyle='--', label='0.9 captured')\n",
    "plt.axvline(x=idx_99, color='blue', linestyle='--', label='0.99 captured')\n",
    "\n",
    "# Annotate indices for 0.8, 0.9, and 0.99 of the variance captured\n",
    "\n",
    "plt.annotate(f'{idx_80}', (idx_80, exp_var_pca[idx_80]), xytext=(idx_80, -0.1), ha='center', fontsize=12, color='red')\n",
    "plt.annotate(f'{idx_90}', (idx_80, exp_var_pca[idx_90]), xytext=(idx_90, -0.1), ha='center', fontsize=12, color='green')\n",
    "plt.annotate(f'{idx_99}', (idx_99, exp_var_pca[idx_99]), xytext=(idx_99, -0.1), ha='center', fontsize=12, color='blue')\n",
    "\n",
    "plt.legend(loc='best')\n",
    "plt.tight_layout()\n",
    "plt.show()\n"
   ]
  },
  {
   "cell_type": "code",
   "execution_count": null,
   "metadata": {},
   "outputs": [],
   "source": [
    " "
   ]
  }
 ],
 "metadata": {
  "kernelspec": {
   "display_name": "kinetix_prod",
   "language": "python",
   "name": "python3"
  },
  "language_info": {
   "codemirror_mode": {
    "name": "ipython",
    "version": 3
   },
   "file_extension": ".py",
   "mimetype": "text/x-python",
   "name": "python",
   "nbconvert_exporter": "python",
   "pygments_lexer": "ipython3",
   "version": "3.9.12"
  },
  "orig_nbformat": 4
 },
 "nbformat": 4,
 "nbformat_minor": 2
}
